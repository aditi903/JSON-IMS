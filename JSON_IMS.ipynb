{
  "nbformat": 4,
  "nbformat_minor": 0,
  "metadata": {
    "colab": {
      "name": "JSON IMS.ipynb",
      "provenance": [],
      "collapsed_sections": []
    },
    "kernelspec": {
      "name": "python3",
      "display_name": "Python 3"
    },
    "language_info": {
      "name": "python"
    }
  },
  "cells": [
    {
      "cell_type": "code",
      "metadata": {
        "id": "uoidhNtu5dE9"
      },
      "source": [
        "data = {'1001': {'name': 'Dairy milk',       'price': 20,      'quantity': 500},                            #chocolates\n",
        "        '1002': {'name': 'Twix',             'price': 45,      'quantity': 100},\n",
        "        '1003': {'name': 'KitKat',           'price': 30,      'quantity': 500},\n",
        "        '1004': {'name': 'Nutties',          'price': 40,      'quantity': 300},\n",
        "        '1005': {'name': 'Snickers',         'price': 20,      'quantity': 200},\n",
        "        '1006': {'name': 'Galaxy',           'price': 40,      'quantity': 400},\n",
        "        '1007': {'name': 'Cadbury',          'price': 50,      'quantity': 500},\n",
        "        '1008': {'name': 'Dark Chocolate',   'price': 60,      'quantity': 250},\n",
        "        '1009': {'name': 'Hersheys',         'price': 50,      'quantity': 100},\n",
        "        '1010': {'name': 'Pizza',            'price': 300,     'quantity': 100},                            #food\n",
        "        '1011': {'name': 'Burger',           'price': 200,     'quantity': 50},\n",
        "        '1012': {'name': 'Momos',            'price': 150,     'quantity': 100},\n",
        "        '1013': {'name': 'Rice',             'price': 200,     'quantity': 250},\n",
        "        '1014': {'name': 'Roti',             'price': 100,     'quantity': 100},\n",
        "        '1015': {'name': 'Paneer',           'price': 250,     'quantity': 100},\n",
        "        '1016': {'name': 'iPhone',           'price': 60000,   'quantity': 50},                             #electronics\n",
        "        '1017': {'name': 'Samsung',          'price': 50000,   'quantity': 50},\n",
        "        '1018': {'name': 'OnePlus',          'price': 40000,   'quantity': 60},\n",
        "        '1019': {'name': 'Oppo',             'price': 40000,   'quantity': 60},\n",
        "        '1020': {'name': 'iPad',             'price': 80000,   'quantity': 20},\n",
        "        '1021': {'name': 'AirPods',          'price': 15000,   'quantity': 80},\n",
        "        '1022': {'name': 'Headphones',       'price': 5000,    'quantity': 100},\n",
        "        '1023': {'name': 'Tshirt',           'price': 600,     'quantity': 500},                            #clothes\n",
        "        '1024': {'name': 'Jean',             'price': 1000,    'quantity': 250},\n",
        "        '1025': {'name': 'Skirt',            'price': 1000,    'quantity': 200},\n",
        "        '1026': {'name': 'Shorts',           'price': 800,     'quantity': 500},\n",
        "        '1027': {'name': 'Formal Wear',      'price': 2000,    'quantity': 250},\n",
        "        '1028': {'name': 'Jacket',           'price': 1500,    'quantity': 200},\n",
        "        '1029': {'name': 'Scarf',            'price': 400,     'quantity': 100},\n",
        "        '1030': {'name': 'Hats',             'price': 300,     'quantity': 300},\n",
        "       }\n"
      ],
      "execution_count": 52,
      "outputs": []
    },
    {
      "cell_type": "code",
      "metadata": {
        "colab": {
          "base_uri": "https://localhost:8080/",
          "height": 137
        },
        "id": "GfeuchOBK8vR",
        "outputId": "0da6e24e-67fa-44e0-cbde-4d83091c95fc"
      },
      "source": [
        "import json\n",
        "\n",
        "records = json.dumps(data)\n",
        "\n",
        "records"
      ],
      "execution_count": 53,
      "outputs": [
        {
          "output_type": "execute_result",
          "data": {
            "application/vnd.google.colaboratory.intrinsic+json": {
              "type": "string"
            },
            "text/plain": [
              "'{\"1001\": {\"name\": \"Dairy milk\", \"price\": 20, \"quantity\": 500}, \"1002\": {\"name\": \"Twix\", \"price\": 45, \"quantity\": 100}, \"1003\": {\"name\": \"KitKat\", \"price\": 30, \"quantity\": 500}, \"1004\": {\"name\": \"Nutties\", \"price\": 40, \"quantity\": 300}, \"1005\": {\"name\": \"Snickers\", \"price\": 20, \"quantity\": 200}, \"1006\": {\"name\": \"Galaxy\", \"price\": 40, \"quantity\": 400}, \"1007\": {\"name\": \"Cadbury\", \"price\": 50, \"quantity\": 500}, \"1008\": {\"name\": \"Dark Chocolate\", \"price\": 60, \"quantity\": 250}, \"1009\": {\"name\": \"Hersheys\", \"price\": 50, \"quantity\": 100}, \"1010\": {\"name\": \"Pizza\", \"price\": 300, \"quantity\": 100}, \"1011\": {\"name\": \"Burger\", \"price\": 200, \"quantity\": 50}, \"1012\": {\"name\": \"Momos\", \"price\": 150, \"quantity\": 100}, \"1013\": {\"name\": \"Rice\", \"price\": 200, \"quantity\": 250}, \"1014\": {\"name\": \"Roti\", \"price\": 100, \"quantity\": 100}, \"1015\": {\"name\": \"Paneer\", \"price\": 250, \"quantity\": 100}, \"1016\": {\"name\": \"iPhone\", \"price\": 60000, \"quantity\": 50}, \"1017\": {\"name\": \"Samsung\", \"price\": 50000, \"quantity\": 50}, \"1018\": {\"name\": \"OnePlus\", \"price\": 40000, \"quantity\": 60}, \"1019\": {\"name\": \"Oppo\", \"price\": 40000, \"quantity\": 60}, \"1020\": {\"name\": \"iPad\", \"price\": 80000, \"quantity\": 20}, \"1021\": {\"name\": \"AirPods\", \"price\": 15000, \"quantity\": 80}, \"1022\": {\"name\": \"Headphones\", \"price\": 5000, \"quantity\": 100}, \"1023\": {\"name\": \"Tshirt\", \"price\": 600, \"quantity\": 500}, \"1024\": {\"name\": \"Jean\", \"price\": 1000, \"quantity\": 250}, \"1025\": {\"name\": \"Skirt\", \"price\": 1000, \"quantity\": 200}, \"1026\": {\"name\": \"Shorts\", \"price\": 800, \"quantity\": 500}, \"1027\": {\"name\": \"Formal Wear\", \"price\": 2000, \"quantity\": 250}, \"1028\": {\"name\": \"Jacket\", \"price\": 1500, \"quantity\": 200}, \"1029\": {\"name\": \"Scarf\", \"price\": 400, \"quantity\": 100}, \"1030\": {\"name\": \"Hats\", \"price\": 300, \"quantity\": 300}}'"
            ]
          },
          "metadata": {},
          "execution_count": 53
        }
      ]
    },
    {
      "cell_type": "code",
      "metadata": {
        "id": "NffBFWKoHpQV",
        "colab": {
          "base_uri": "https://localhost:8080/"
        },
        "outputId": "7948bb92-186f-4730-d8d5-ca17a9378d0b"
      },
      "source": [
        "ui_prod  = str(input(\"Enter the product_Id: \"))\n",
        "ui_quant = int(input(\"Enter the quantity: \"))\n",
        "\n",
        "if (ui_quant <= (data[ui_prod]['quantity'])):                                       #checking availiabilty of the product\n",
        "    print(\"The product is available\")\n",
        "\n",
        "    print(\"*********************\")\n",
        "    print(\"Product: \", data[ui_prod]['name'])\n",
        "    print(\"Price: \", data[ui_prod]['price'])\n",
        "    print(\"Billing Amount: \", data[ui_prod]['price'] * ui_quant)\n",
        "    print(\"*********************\")\n",
        "\n",
        "    data[ui_prod]['quantity'] = data[ui_prod]['quantity'] - ui_quant \n",
        "\n",
        "    cash = int(input(\"Pay the cash for the billing amount: \"))\n",
        "    if (cash == (data[ui_prod]['price'] * ui_quant)):\n",
        "        print(\"*****Thank you for shopping with us*****\")\n",
        "    elif (cash > (data[ui_prod]['price'] * ui_quant)):\n",
        "        print(\"Your exchange amount is: \", (cash - (data[ui_prod]['price'] * ui_quant)))\n",
        "        print(\"*****Thank you for shopping with us*****\")\n",
        "    else:\n",
        "        print(\"The amount you entered is less, please pay\", ((data[ui_prod]['price'] * ui_quant) - cash), \"more.\")\n",
        "        x = int(input(\"Pay the cash for the remaining amount: \"))\n",
        "        print(\"*****Thank you for shopping with us*****\")\n",
        "\n",
        "else:\n",
        "    print(\"The product is not available\")\n"
      ],
      "execution_count": 59,
      "outputs": [
        {
          "output_type": "stream",
          "name": "stdout",
          "text": [
            "Enter the product_Id: 1001\n",
            "Enter the quantity: 2\n",
            "The product is available\n",
            "*********************\n",
            "Product:  Dairy milk\n",
            "Price:  20\n",
            "Billing Amount:  40\n",
            "*********************\n",
            "Pay the cash for the billing amount: 50\n",
            "Your exchange amount is:  10\n",
            "*****Thank you for shopping with us*****\n"
          ]
        }
      ]
    },
    {
      "cell_type": "code",
      "metadata": {
        "id": "LuuBmeTUK7-E"
      },
      "source": [
        "records = json.dumps(data)\n",
        "\n",
        "fd = open(\"records.json\",'w')\n",
        "fd.write(records)\n",
        "fd.close()"
      ],
      "execution_count": 61,
      "outputs": []
    },
    {
      "cell_type": "code",
      "metadata": {
        "colab": {
          "base_uri": "https://localhost:8080/"
        },
        "id": "734I2iK4LJmz",
        "outputId": "d4518f42-064f-4a29-baee-a86b9dd3f705"
      },
      "source": [
        "records.split(\"},\")"
      ],
      "execution_count": 62,
      "outputs": [
        {
          "output_type": "execute_result",
          "data": {
            "text/plain": [
              "['{\"1001\": {\"name\": \"Dairy milk\", \"price\": 20, \"quantity\": 498',\n",
              " ' \"1002\": {\"name\": \"Twix\", \"price\": 45, \"quantity\": 100',\n",
              " ' \"1003\": {\"name\": \"KitKat\", \"price\": 30, \"quantity\": 500',\n",
              " ' \"1004\": {\"name\": \"Nutties\", \"price\": 40, \"quantity\": 300',\n",
              " ' \"1005\": {\"name\": \"Snickers\", \"price\": 20, \"quantity\": 200',\n",
              " ' \"1006\": {\"name\": \"Galaxy\", \"price\": 40, \"quantity\": 400',\n",
              " ' \"1007\": {\"name\": \"Cadbury\", \"price\": 50, \"quantity\": 500',\n",
              " ' \"1008\": {\"name\": \"Dark Chocolate\", \"price\": 60, \"quantity\": 250',\n",
              " ' \"1009\": {\"name\": \"Hersheys\", \"price\": 50, \"quantity\": 100',\n",
              " ' \"1010\": {\"name\": \"Pizza\", \"price\": 300, \"quantity\": 100',\n",
              " ' \"1011\": {\"name\": \"Burger\", \"price\": 200, \"quantity\": 50',\n",
              " ' \"1012\": {\"name\": \"Momos\", \"price\": 150, \"quantity\": 100',\n",
              " ' \"1013\": {\"name\": \"Rice\", \"price\": 200, \"quantity\": 250',\n",
              " ' \"1014\": {\"name\": \"Roti\", \"price\": 100, \"quantity\": 100',\n",
              " ' \"1015\": {\"name\": \"Paneer\", \"price\": 250, \"quantity\": 100',\n",
              " ' \"1016\": {\"name\": \"iPhone\", \"price\": 60000, \"quantity\": 50',\n",
              " ' \"1017\": {\"name\": \"Samsung\", \"price\": 50000, \"quantity\": 50',\n",
              " ' \"1018\": {\"name\": \"OnePlus\", \"price\": 40000, \"quantity\": 60',\n",
              " ' \"1019\": {\"name\": \"Oppo\", \"price\": 40000, \"quantity\": 60',\n",
              " ' \"1020\": {\"name\": \"iPad\", \"price\": 80000, \"quantity\": 20',\n",
              " ' \"1021\": {\"name\": \"AirPods\", \"price\": 15000, \"quantity\": 80',\n",
              " ' \"1022\": {\"name\": \"Headphones\", \"price\": 5000, \"quantity\": 100',\n",
              " ' \"1023\": {\"name\": \"Tshirt\", \"price\": 600, \"quantity\": 500',\n",
              " ' \"1024\": {\"name\": \"Jean\", \"price\": 1000, \"quantity\": 250',\n",
              " ' \"1025\": {\"name\": \"Skirt\", \"price\": 1000, \"quantity\": 200',\n",
              " ' \"1026\": {\"name\": \"Shorts\", \"price\": 800, \"quantity\": 500',\n",
              " ' \"1027\": {\"name\": \"Formal Wear\", \"price\": 2000, \"quantity\": 250',\n",
              " ' \"1028\": {\"name\": \"Jacket\", \"price\": 1500, \"quantity\": 200',\n",
              " ' \"1029\": {\"name\": \"Scarf\", \"price\": 400, \"quantity\": 100',\n",
              " ' \"1030\": {\"name\": \"Hats\", \"price\": 300, \"quantity\": 300}}']"
            ]
          },
          "metadata": {},
          "execution_count": 62
        }
      ]
    },
    {
      "cell_type": "code",
      "metadata": {
        "colab": {
          "base_uri": "https://localhost:8080/"
        },
        "id": "XDfc-VR0-NMj",
        "outputId": "e08c0b42-9c66-43c3-dd32-988915c15935"
      },
      "source": [
        "print(\"Adding new item.\")\n",
        "prod_id = str(input(\"Enter product id: \"))\n",
        "name = str(input(\"Enter name: \"))\n",
        "price = int(input(\"Enter price: \"))\n",
        "quantity = int(input(\"Enter quantity: \"))\n",
        "\n",
        "data[prod_id] = {'name': name, 'price': price, 'quantity': quantity}\n",
        "\n",
        "records = json.dumps(data)\n",
        "\n",
        "fd = open(\"records.json\",'w')\n",
        "fd.write(records)\n",
        "fd.close()"
      ],
      "execution_count": 63,
      "outputs": [
        {
          "name": "stdout",
          "output_type": "stream",
          "text": [
            "Adding new item.\n",
            "Enter product id: 1031\n",
            "Enter name: gloves\n",
            "Enter price: 350\n",
            "Enter quantity: 50\n"
          ]
        }
      ]
    },
    {
      "cell_type": "code",
      "metadata": {
        "colab": {
          "base_uri": "https://localhost:8080/"
        },
        "id": "s0gU9cE7_vn9",
        "outputId": "4656a288-6413-4aaa-dc5c-f5c896d08f37"
      },
      "source": [
        "records.split(\"},\")"
      ],
      "execution_count": 64,
      "outputs": [
        {
          "output_type": "execute_result",
          "data": {
            "text/plain": [
              "['{\"1001\": {\"name\": \"Dairy milk\", \"price\": 20, \"quantity\": 498',\n",
              " ' \"1002\": {\"name\": \"Twix\", \"price\": 45, \"quantity\": 100',\n",
              " ' \"1003\": {\"name\": \"KitKat\", \"price\": 30, \"quantity\": 500',\n",
              " ' \"1004\": {\"name\": \"Nutties\", \"price\": 40, \"quantity\": 300',\n",
              " ' \"1005\": {\"name\": \"Snickers\", \"price\": 20, \"quantity\": 200',\n",
              " ' \"1006\": {\"name\": \"Galaxy\", \"price\": 40, \"quantity\": 400',\n",
              " ' \"1007\": {\"name\": \"Cadbury\", \"price\": 50, \"quantity\": 500',\n",
              " ' \"1008\": {\"name\": \"Dark Chocolate\", \"price\": 60, \"quantity\": 250',\n",
              " ' \"1009\": {\"name\": \"Hersheys\", \"price\": 50, \"quantity\": 100',\n",
              " ' \"1010\": {\"name\": \"Pizza\", \"price\": 300, \"quantity\": 100',\n",
              " ' \"1011\": {\"name\": \"Burger\", \"price\": 200, \"quantity\": 50',\n",
              " ' \"1012\": {\"name\": \"Momos\", \"price\": 150, \"quantity\": 100',\n",
              " ' \"1013\": {\"name\": \"Rice\", \"price\": 200, \"quantity\": 250',\n",
              " ' \"1014\": {\"name\": \"Roti\", \"price\": 100, \"quantity\": 100',\n",
              " ' \"1015\": {\"name\": \"Paneer\", \"price\": 250, \"quantity\": 100',\n",
              " ' \"1016\": {\"name\": \"iPhone\", \"price\": 60000, \"quantity\": 50',\n",
              " ' \"1017\": {\"name\": \"Samsung\", \"price\": 50000, \"quantity\": 50',\n",
              " ' \"1018\": {\"name\": \"OnePlus\", \"price\": 40000, \"quantity\": 60',\n",
              " ' \"1019\": {\"name\": \"Oppo\", \"price\": 40000, \"quantity\": 60',\n",
              " ' \"1020\": {\"name\": \"iPad\", \"price\": 80000, \"quantity\": 20',\n",
              " ' \"1021\": {\"name\": \"AirPods\", \"price\": 15000, \"quantity\": 80',\n",
              " ' \"1022\": {\"name\": \"Headphones\", \"price\": 5000, \"quantity\": 100',\n",
              " ' \"1023\": {\"name\": \"Tshirt\", \"price\": 600, \"quantity\": 500',\n",
              " ' \"1024\": {\"name\": \"Jean\", \"price\": 1000, \"quantity\": 250',\n",
              " ' \"1025\": {\"name\": \"Skirt\", \"price\": 1000, \"quantity\": 200',\n",
              " ' \"1026\": {\"name\": \"Shorts\", \"price\": 800, \"quantity\": 500',\n",
              " ' \"1027\": {\"name\": \"Formal Wear\", \"price\": 2000, \"quantity\": 250',\n",
              " ' \"1028\": {\"name\": \"Jacket\", \"price\": 1500, \"quantity\": 200',\n",
              " ' \"1029\": {\"name\": \"Scarf\", \"price\": 400, \"quantity\": 100',\n",
              " ' \"1030\": {\"name\": \"Hats\", \"price\": 300, \"quantity\": 300',\n",
              " ' \"1031\": {\"name\": \"gloves\", \"price\": 350, \"quantity\": 50}}']"
            ]
          },
          "metadata": {},
          "execution_count": 64
        }
      ]
    },
    {
      "cell_type": "code",
      "metadata": {
        "id": "uZGOCXaxAsd8"
      },
      "source": [
        ""
      ],
      "execution_count": 51,
      "outputs": []
    }
  ]
}